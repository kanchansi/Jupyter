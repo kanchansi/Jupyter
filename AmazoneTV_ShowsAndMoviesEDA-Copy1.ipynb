{
 "cells": [
  {
   "cell_type": "markdown",
   "id": "a18f1156",
   "metadata": {},
   "source": [
    "# Amazone TV SHows and Movies EDA"
   ]
  },
  {
   "cell_type": "code",
   "execution_count": 1,
   "id": "92cec94a",
   "metadata": {},
   "outputs": [],
   "source": [
    "import pandas as pd\n",
    "import numpy as np\n",
    "import matplotlib.pyplot as plt\n",
    "import seaborn as sns"
   ]
  },
  {
   "cell_type": "code",
   "execution_count": 2,
   "id": "e3007d42",
   "metadata": {},
   "outputs": [],
   "source": [
    "import sys\n",
    "if not sys.warnoptions:\n",
    "    import warnings\n",
    "    warnings.simplefilter('ignore')"
   ]
  },
  {
   "cell_type": "code",
   "execution_count": 5,
   "id": "d67b572a",
   "metadata": {},
   "outputs": [],
   "source": [
    "# load csv files\n",
    "credit_df=pd.read_csv(r'C:\\Users\\Dell\\Downloads\\credits.csv')  \n",
    "title_df=pd.read_csv(r'C:\\Users\\Dell\\Downloads\\titles.csv')"
   ]
  },
  {
   "cell_type": "markdown",
   "id": "9d49ec15",
   "metadata": {},
   "source": [
    "# Explore Credit Data"
   ]
  },
  {
   "cell_type": "code",
   "execution_count": 6,
   "id": "81dff5f6",
   "metadata": {},
   "outputs": [
    {
     "data": {
      "text/html": [
       "<div>\n",
       "<style scoped>\n",
       "    .dataframe tbody tr th:only-of-type {\n",
       "        vertical-align: middle;\n",
       "    }\n",
       "\n",
       "    .dataframe tbody tr th {\n",
       "        vertical-align: top;\n",
       "    }\n",
       "\n",
       "    .dataframe thead th {\n",
       "        text-align: right;\n",
       "    }\n",
       "</style>\n",
       "<table border=\"1\" class=\"dataframe\">\n",
       "  <thead>\n",
       "    <tr style=\"text-align: right;\">\n",
       "      <th></th>\n",
       "      <th>person_id</th>\n",
       "      <th>id</th>\n",
       "      <th>name</th>\n",
       "      <th>character</th>\n",
       "      <th>role</th>\n",
       "    </tr>\n",
       "  </thead>\n",
       "  <tbody>\n",
       "    <tr>\n",
       "      <th>0</th>\n",
       "      <td>59401</td>\n",
       "      <td>ts20945</td>\n",
       "      <td>Joe Besser</td>\n",
       "      <td>Joe</td>\n",
       "      <td>ACTOR</td>\n",
       "    </tr>\n",
       "    <tr>\n",
       "      <th>1</th>\n",
       "      <td>31460</td>\n",
       "      <td>ts20945</td>\n",
       "      <td>Moe Howard</td>\n",
       "      <td>Moe</td>\n",
       "      <td>ACTOR</td>\n",
       "    </tr>\n",
       "    <tr>\n",
       "      <th>2</th>\n",
       "      <td>31461</td>\n",
       "      <td>ts20945</td>\n",
       "      <td>Larry Fine</td>\n",
       "      <td>Larry</td>\n",
       "      <td>ACTOR</td>\n",
       "    </tr>\n",
       "    <tr>\n",
       "      <th>3</th>\n",
       "      <td>21174</td>\n",
       "      <td>tm19248</td>\n",
       "      <td>Buster Keaton</td>\n",
       "      <td>Johnny Gray</td>\n",
       "      <td>ACTOR</td>\n",
       "    </tr>\n",
       "    <tr>\n",
       "      <th>4</th>\n",
       "      <td>28713</td>\n",
       "      <td>tm19248</td>\n",
       "      <td>Marion Mack</td>\n",
       "      <td>Annabelle Lee</td>\n",
       "      <td>ACTOR</td>\n",
       "    </tr>\n",
       "  </tbody>\n",
       "</table>\n",
       "</div>"
      ],
      "text/plain": [
       "   person_id       id           name      character   role\n",
       "0      59401  ts20945     Joe Besser            Joe  ACTOR\n",
       "1      31460  ts20945     Moe Howard            Moe  ACTOR\n",
       "2      31461  ts20945     Larry Fine          Larry  ACTOR\n",
       "3      21174  tm19248  Buster Keaton    Johnny Gray  ACTOR\n",
       "4      28713  tm19248    Marion Mack  Annabelle Lee  ACTOR"
      ]
     },
     "execution_count": 6,
     "metadata": {},
     "output_type": "execute_result"
    }
   ],
   "source": [
    "credit_df.head()"
   ]
  },
  {
   "cell_type": "code",
   "execution_count": 7,
   "id": "f40431f8",
   "metadata": {},
   "outputs": [
    {
     "data": {
      "text/plain": [
       "(124235, 5)"
      ]
     },
     "execution_count": 7,
     "metadata": {},
     "output_type": "execute_result"
    }
   ],
   "source": [
    "#shape of a data\n",
    "credit_df.shape"
   ]
  },
  {
   "cell_type": "code",
   "execution_count": 8,
   "id": "2e28867e",
   "metadata": {},
   "outputs": [
    {
     "name": "stdout",
     "output_type": "stream",
     "text": [
      "<class 'pandas.core.frame.DataFrame'>\n",
      "RangeIndex: 124235 entries, 0 to 124234\n",
      "Data columns (total 5 columns):\n",
      " #   Column     Non-Null Count   Dtype \n",
      "---  ------     --------------   ----- \n",
      " 0   person_id  124235 non-null  int64 \n",
      " 1   id         124235 non-null  object\n",
      " 2   name       124235 non-null  object\n",
      " 3   character  107948 non-null  object\n",
      " 4   role       124235 non-null  object\n",
      "dtypes: int64(1), object(4)\n",
      "memory usage: 4.7+ MB\n"
     ]
    }
   ],
   "source": [
    "#information of data\n",
    "credit_df.info()"
   ]
  },
  {
   "cell_type": "code",
   "execution_count": 11,
   "id": "6a980907",
   "metadata": {},
   "outputs": [
    {
     "data": {
      "text/plain": [
       "person_id        0\n",
       "id               0\n",
       "name             0\n",
       "character    16287\n",
       "role             0\n",
       "dtype: int64"
      ]
     },
     "execution_count": 11,
     "metadata": {},
     "output_type": "execute_result"
    }
   ],
   "source": [
    "#sum the null Value\n",
    "credit_df.isnull().sum()"
   ]
  },
  {
   "cell_type": "markdown",
   "id": "f022f48c",
   "metadata": {},
   "source": [
    "#character have 16287 null value"
   ]
  },
  {
   "cell_type": "code",
   "execution_count": 12,
   "id": "cc544a74",
   "metadata": {},
   "outputs": [
    {
     "data": {
      "text/plain": [
       "person_id     0.00\n",
       "id            0.00\n",
       "name          0.00\n",
       "character    13.11\n",
       "role          0.00\n",
       "dtype: float64"
      ]
     },
     "execution_count": 12,
     "metadata": {},
     "output_type": "execute_result"
    }
   ],
   "source": [
    "#percentage of missing value\n",
    "round(100*(credit_df.isnull().sum()/len(credit_df.index)),2)"
   ]
  },
  {
   "cell_type": "markdown",
   "id": "f46d7131",
   "metadata": {},
   "source": [
    "character column has 13% missing value"
   ]
  },
  {
   "cell_type": "code",
   "execution_count": 13,
   "id": "b000930d",
   "metadata": {},
   "outputs": [],
   "source": [
    "# Replace the missing value with 'no data'\n",
    "credit_df.replace(np.nan,'No Data',inplace=True)"
   ]
  },
  {
   "cell_type": "code",
   "execution_count": 14,
   "id": "d1943bc5",
   "metadata": {},
   "outputs": [
    {
     "data": {
      "text/plain": [
       "56"
      ]
     },
     "execution_count": 14,
     "metadata": {},
     "output_type": "execute_result"
    }
   ],
   "source": [
    "credit_df.duplicated().sum()"
   ]
  },
  {
   "cell_type": "markdown",
   "id": "da4d6b68",
   "metadata": {},
   "source": [
    "# Explore the title detail"
   ]
  },
  {
   "cell_type": "code",
   "execution_count": 15,
   "id": "8b2880ac",
   "metadata": {},
   "outputs": [
    {
     "data": {
      "text/html": [
       "<div>\n",
       "<style scoped>\n",
       "    .dataframe tbody tr th:only-of-type {\n",
       "        vertical-align: middle;\n",
       "    }\n",
       "\n",
       "    .dataframe tbody tr th {\n",
       "        vertical-align: top;\n",
       "    }\n",
       "\n",
       "    .dataframe thead th {\n",
       "        text-align: right;\n",
       "    }\n",
       "</style>\n",
       "<table border=\"1\" class=\"dataframe\">\n",
       "  <thead>\n",
       "    <tr style=\"text-align: right;\">\n",
       "      <th></th>\n",
       "      <th>id</th>\n",
       "      <th>title</th>\n",
       "      <th>type</th>\n",
       "      <th>description</th>\n",
       "      <th>release_year</th>\n",
       "      <th>age_certification</th>\n",
       "      <th>runtime</th>\n",
       "      <th>genres</th>\n",
       "      <th>production_countries</th>\n",
       "      <th>seasons</th>\n",
       "      <th>imdb_id</th>\n",
       "      <th>imdb_score</th>\n",
       "      <th>imdb_votes</th>\n",
       "      <th>tmdb_popularity</th>\n",
       "      <th>tmdb_score</th>\n",
       "    </tr>\n",
       "  </thead>\n",
       "  <tbody>\n",
       "    <tr>\n",
       "      <th>0</th>\n",
       "      <td>ts20945</td>\n",
       "      <td>The Three Stooges</td>\n",
       "      <td>SHOW</td>\n",
       "      <td>The Three Stooges were an American vaudeville ...</td>\n",
       "      <td>1934</td>\n",
       "      <td>TV-PG</td>\n",
       "      <td>19</td>\n",
       "      <td>['comedy', 'family', 'animation', 'action', 'f...</td>\n",
       "      <td>['US']</td>\n",
       "      <td>26.0</td>\n",
       "      <td>tt0850645</td>\n",
       "      <td>8.6</td>\n",
       "      <td>1092.0</td>\n",
       "      <td>15.424</td>\n",
       "      <td>7.6</td>\n",
       "    </tr>\n",
       "    <tr>\n",
       "      <th>1</th>\n",
       "      <td>tm19248</td>\n",
       "      <td>The General</td>\n",
       "      <td>MOVIE</td>\n",
       "      <td>During America’s Civil War, Union spies steal ...</td>\n",
       "      <td>1926</td>\n",
       "      <td>NaN</td>\n",
       "      <td>78</td>\n",
       "      <td>['action', 'drama', 'war', 'western', 'comedy'...</td>\n",
       "      <td>['US']</td>\n",
       "      <td>NaN</td>\n",
       "      <td>tt0017925</td>\n",
       "      <td>8.2</td>\n",
       "      <td>89766.0</td>\n",
       "      <td>8.647</td>\n",
       "      <td>8.0</td>\n",
       "    </tr>\n",
       "    <tr>\n",
       "      <th>2</th>\n",
       "      <td>tm82253</td>\n",
       "      <td>The Best Years of Our Lives</td>\n",
       "      <td>MOVIE</td>\n",
       "      <td>It's the hope that sustains the spirit of ever...</td>\n",
       "      <td>1946</td>\n",
       "      <td>NaN</td>\n",
       "      <td>171</td>\n",
       "      <td>['romance', 'war', 'drama']</td>\n",
       "      <td>['US']</td>\n",
       "      <td>NaN</td>\n",
       "      <td>tt0036868</td>\n",
       "      <td>8.1</td>\n",
       "      <td>63026.0</td>\n",
       "      <td>8.435</td>\n",
       "      <td>7.8</td>\n",
       "    </tr>\n",
       "    <tr>\n",
       "      <th>3</th>\n",
       "      <td>tm83884</td>\n",
       "      <td>His Girl Friday</td>\n",
       "      <td>MOVIE</td>\n",
       "      <td>Hildy, the journalist former wife of newspaper...</td>\n",
       "      <td>1940</td>\n",
       "      <td>NaN</td>\n",
       "      <td>92</td>\n",
       "      <td>['comedy', 'drama', 'romance']</td>\n",
       "      <td>['US']</td>\n",
       "      <td>NaN</td>\n",
       "      <td>tt0032599</td>\n",
       "      <td>7.8</td>\n",
       "      <td>57835.0</td>\n",
       "      <td>11.270</td>\n",
       "      <td>7.4</td>\n",
       "    </tr>\n",
       "    <tr>\n",
       "      <th>4</th>\n",
       "      <td>tm56584</td>\n",
       "      <td>In a Lonely Place</td>\n",
       "      <td>MOVIE</td>\n",
       "      <td>An aspiring actress begins to suspect that her...</td>\n",
       "      <td>1950</td>\n",
       "      <td>NaN</td>\n",
       "      <td>94</td>\n",
       "      <td>['thriller', 'drama', 'romance']</td>\n",
       "      <td>['US']</td>\n",
       "      <td>NaN</td>\n",
       "      <td>tt0042593</td>\n",
       "      <td>7.9</td>\n",
       "      <td>30924.0</td>\n",
       "      <td>8.273</td>\n",
       "      <td>7.6</td>\n",
       "    </tr>\n",
       "  </tbody>\n",
       "</table>\n",
       "</div>"
      ],
      "text/plain": [
       "        id                        title   type  \\\n",
       "0  ts20945            The Three Stooges   SHOW   \n",
       "1  tm19248                  The General  MOVIE   \n",
       "2  tm82253  The Best Years of Our Lives  MOVIE   \n",
       "3  tm83884              His Girl Friday  MOVIE   \n",
       "4  tm56584            In a Lonely Place  MOVIE   \n",
       "\n",
       "                                         description  release_year  \\\n",
       "0  The Three Stooges were an American vaudeville ...          1934   \n",
       "1  During America’s Civil War, Union spies steal ...          1926   \n",
       "2  It's the hope that sustains the spirit of ever...          1946   \n",
       "3  Hildy, the journalist former wife of newspaper...          1940   \n",
       "4  An aspiring actress begins to suspect that her...          1950   \n",
       "\n",
       "  age_certification  runtime  \\\n",
       "0             TV-PG       19   \n",
       "1               NaN       78   \n",
       "2               NaN      171   \n",
       "3               NaN       92   \n",
       "4               NaN       94   \n",
       "\n",
       "                                              genres production_countries  \\\n",
       "0  ['comedy', 'family', 'animation', 'action', 'f...               ['US']   \n",
       "1  ['action', 'drama', 'war', 'western', 'comedy'...               ['US']   \n",
       "2                        ['romance', 'war', 'drama']               ['US']   \n",
       "3                     ['comedy', 'drama', 'romance']               ['US']   \n",
       "4                   ['thriller', 'drama', 'romance']               ['US']   \n",
       "\n",
       "   seasons    imdb_id  imdb_score  imdb_votes  tmdb_popularity  tmdb_score  \n",
       "0     26.0  tt0850645         8.6      1092.0           15.424         7.6  \n",
       "1      NaN  tt0017925         8.2     89766.0            8.647         8.0  \n",
       "2      NaN  tt0036868         8.1     63026.0            8.435         7.8  \n",
       "3      NaN  tt0032599         7.8     57835.0           11.270         7.4  \n",
       "4      NaN  tt0042593         7.9     30924.0            8.273         7.6  "
      ]
     },
     "execution_count": 15,
     "metadata": {},
     "output_type": "execute_result"
    }
   ],
   "source": [
    "title_df.head()"
   ]
  },
  {
   "cell_type": "code",
   "execution_count": 16,
   "id": "6f2c6a88",
   "metadata": {},
   "outputs": [
    {
     "data": {
      "text/plain": [
       "(9871, 15)"
      ]
     },
     "execution_count": 16,
     "metadata": {},
     "output_type": "execute_result"
    }
   ],
   "source": [
    "# shape of data\n",
    "title_df.shape"
   ]
  },
  {
   "cell_type": "code",
   "execution_count": 17,
   "id": "b4c67d41",
   "metadata": {},
   "outputs": [
    {
     "name": "stdout",
     "output_type": "stream",
     "text": [
      "<class 'pandas.core.frame.DataFrame'>\n",
      "RangeIndex: 9871 entries, 0 to 9870\n",
      "Data columns (total 15 columns):\n",
      " #   Column                Non-Null Count  Dtype  \n",
      "---  ------                --------------  -----  \n",
      " 0   id                    9871 non-null   object \n",
      " 1   title                 9871 non-null   object \n",
      " 2   type                  9871 non-null   object \n",
      " 3   description           9752 non-null   object \n",
      " 4   release_year          9871 non-null   int64  \n",
      " 5   age_certification     3384 non-null   object \n",
      " 6   runtime               9871 non-null   int64  \n",
      " 7   genres                9871 non-null   object \n",
      " 8   production_countries  9871 non-null   object \n",
      " 9   seasons               1357 non-null   float64\n",
      " 10  imdb_id               9204 non-null   object \n",
      " 11  imdb_score            8850 non-null   float64\n",
      " 12  imdb_votes            8840 non-null   float64\n",
      " 13  tmdb_popularity       9324 non-null   float64\n",
      " 14  tmdb_score            7789 non-null   float64\n",
      "dtypes: float64(5), int64(2), object(8)\n",
      "memory usage: 1.1+ MB\n"
     ]
    }
   ],
   "source": [
    "#information of data\n",
    "title_df.info()"
   ]
  },
  {
   "cell_type": "code",
   "execution_count": 18,
   "id": "a3e75e63",
   "metadata": {},
   "outputs": [
    {
     "data": {
      "text/plain": [
       "id                         0\n",
       "title                      0\n",
       "type                       0\n",
       "description              119\n",
       "release_year               0\n",
       "age_certification       6487\n",
       "runtime                    0\n",
       "genres                     0\n",
       "production_countries       0\n",
       "seasons                 8514\n",
       "imdb_id                  667\n",
       "imdb_score              1021\n",
       "imdb_votes              1031\n",
       "tmdb_popularity          547\n",
       "tmdb_score              2082\n",
       "dtype: int64"
      ]
     },
     "execution_count": 18,
     "metadata": {},
     "output_type": "execute_result"
    }
   ],
   "source": [
    "# missing value\n",
    "title_df.isnull().sum()"
   ]
  },
  {
   "cell_type": "code",
   "execution_count": 21,
   "id": "5279b7ed",
   "metadata": {},
   "outputs": [
    {
     "data": {
      "text/plain": [
       "id                       0.00\n",
       "title                    0.00\n",
       "type                     0.00\n",
       "description              1.21\n",
       "release_year             0.00\n",
       "age_certification       65.72\n",
       "runtime                  0.00\n",
       "genres                   0.00\n",
       "production_countries     0.00\n",
       "seasons                 86.25\n",
       "imdb_id                  6.76\n",
       "imdb_score              10.34\n",
       "imdb_votes              10.44\n",
       "tmdb_popularity          5.54\n",
       "tmdb_score              21.09\n",
       "dtype: float64"
      ]
     },
     "execution_count": 21,
     "metadata": {},
     "output_type": "execute_result"
    }
   ],
   "source": [
    "#percentage of missing value in a columns\n",
    "round(100*(title_df.isnull().sum()/len(title_df.index)),2)"
   ]
  },
  {
   "cell_type": "markdown",
   "id": "5d1a76a5",
   "metadata": {},
   "source": [
    "age_certification and seasons more than 60 % missing value.drop those columns"
   ]
  },
  {
   "cell_type": "code",
   "execution_count": 22,
   "id": "d652644f",
   "metadata": {},
   "outputs": [],
   "source": [
    "title_df=title_df.drop(columns=['seasons','age_certification'])"
   ]
  },
  {
   "cell_type": "code",
   "execution_count": 26,
   "id": "8ee3caec",
   "metadata": {},
   "outputs": [],
   "source": [
    "#INPUT THE VALUE REST OF NULL COLUMNS\n",
    "title_df['imdb_id'].replace(np.nan,'No Data',inplace=True)\n",
    "title_df['description'].replace(np.nan,'No Data',inplace=True)\n",
    "title_df['imdb_score']=title_df['imdb_score'].fillna(title_df['imdb_score'].mode()[0])\n",
    "title_df['imdb_votes']=title_df['imdb_votes'].fillna(title_df['imdb_votes'].mode()[0])\n",
    "title_df['tmtb_popularity']=title_df['tmdb_popularity'].fillna(title_df['tmdb_popularity'].mode()[0])\n",
    "title_df['tmdb_score']=title_df['tmdb_score'].fillna(title_df['tmdb_score'].mode()[0])"
   ]
  },
  {
   "cell_type": "code",
   "execution_count": 27,
   "id": "45578836",
   "metadata": {},
   "outputs": [],
   "source": [
    "title_df['production_countries'] = title_df['production_countries'].str[2:4]\n",
    "for i in range(len(title_df['production_countries'])):\n",
    "    if title_df['production_countries'][i] == '':\n",
    "        title_df['production_countries'][i] = 'Unknown'"
   ]
  },
  {
   "cell_type": "code",
   "execution_count": 28,
   "id": "15fcef03",
   "metadata": {},
   "outputs": [
    {
     "data": {
      "text/html": [
       "<div>\n",
       "<style scoped>\n",
       "    .dataframe tbody tr th:only-of-type {\n",
       "        vertical-align: middle;\n",
       "    }\n",
       "\n",
       "    .dataframe tbody tr th {\n",
       "        vertical-align: top;\n",
       "    }\n",
       "\n",
       "    .dataframe thead th {\n",
       "        text-align: right;\n",
       "    }\n",
       "</style>\n",
       "<table border=\"1\" class=\"dataframe\">\n",
       "  <thead>\n",
       "    <tr style=\"text-align: right;\">\n",
       "      <th></th>\n",
       "      <th>person_id</th>\n",
       "      <th>id</th>\n",
       "      <th>name</th>\n",
       "      <th>character</th>\n",
       "      <th>role</th>\n",
       "    </tr>\n",
       "  </thead>\n",
       "  <tbody>\n",
       "    <tr>\n",
       "      <th>0</th>\n",
       "      <td>59401</td>\n",
       "      <td>ts20945</td>\n",
       "      <td>Joe Besser</td>\n",
       "      <td>Joe</td>\n",
       "      <td>ACTOR</td>\n",
       "    </tr>\n",
       "    <tr>\n",
       "      <th>1</th>\n",
       "      <td>31460</td>\n",
       "      <td>ts20945</td>\n",
       "      <td>Moe Howard</td>\n",
       "      <td>Moe</td>\n",
       "      <td>ACTOR</td>\n",
       "    </tr>\n",
       "    <tr>\n",
       "      <th>2</th>\n",
       "      <td>31461</td>\n",
       "      <td>ts20945</td>\n",
       "      <td>Larry Fine</td>\n",
       "      <td>Larry</td>\n",
       "      <td>ACTOR</td>\n",
       "    </tr>\n",
       "    <tr>\n",
       "      <th>3</th>\n",
       "      <td>21174</td>\n",
       "      <td>tm19248</td>\n",
       "      <td>Buster Keaton</td>\n",
       "      <td>Johnny Gray</td>\n",
       "      <td>ACTOR</td>\n",
       "    </tr>\n",
       "    <tr>\n",
       "      <th>4</th>\n",
       "      <td>28713</td>\n",
       "      <td>tm19248</td>\n",
       "      <td>Marion Mack</td>\n",
       "      <td>Annabelle Lee</td>\n",
       "      <td>ACTOR</td>\n",
       "    </tr>\n",
       "  </tbody>\n",
       "</table>\n",
       "</div>"
      ],
      "text/plain": [
       "   person_id       id           name      character   role\n",
       "0      59401  ts20945     Joe Besser            Joe  ACTOR\n",
       "1      31460  ts20945     Moe Howard            Moe  ACTOR\n",
       "2      31461  ts20945     Larry Fine          Larry  ACTOR\n",
       "3      21174  tm19248  Buster Keaton    Johnny Gray  ACTOR\n",
       "4      28713  tm19248    Marion Mack  Annabelle Lee  ACTOR"
      ]
     },
     "execution_count": 28,
     "metadata": {},
     "output_type": "execute_result"
    }
   ],
   "source": [
    "credit_df.head()"
   ]
  },
  {
   "cell_type": "code",
   "execution_count": 29,
   "id": "371d43e1",
   "metadata": {},
   "outputs": [
    {
     "data": {
      "text/html": [
       "<div>\n",
       "<style scoped>\n",
       "    .dataframe tbody tr th:only-of-type {\n",
       "        vertical-align: middle;\n",
       "    }\n",
       "\n",
       "    .dataframe tbody tr th {\n",
       "        vertical-align: top;\n",
       "    }\n",
       "\n",
       "    .dataframe thead th {\n",
       "        text-align: right;\n",
       "    }\n",
       "</style>\n",
       "<table border=\"1\" class=\"dataframe\">\n",
       "  <thead>\n",
       "    <tr style=\"text-align: right;\">\n",
       "      <th></th>\n",
       "      <th>id</th>\n",
       "      <th>title</th>\n",
       "      <th>type</th>\n",
       "      <th>description</th>\n",
       "      <th>release_year</th>\n",
       "      <th>runtime</th>\n",
       "      <th>genres</th>\n",
       "      <th>production_countries</th>\n",
       "      <th>imdb_id</th>\n",
       "      <th>imdb_score</th>\n",
       "      <th>imdb_votes</th>\n",
       "      <th>tmdb_popularity</th>\n",
       "      <th>tmdb_score</th>\n",
       "      <th>tmtb_popularity</th>\n",
       "    </tr>\n",
       "  </thead>\n",
       "  <tbody>\n",
       "    <tr>\n",
       "      <th>0</th>\n",
       "      <td>ts20945</td>\n",
       "      <td>The Three Stooges</td>\n",
       "      <td>SHOW</td>\n",
       "      <td>The Three Stooges were an American vaudeville ...</td>\n",
       "      <td>1934</td>\n",
       "      <td>19</td>\n",
       "      <td>['comedy', 'family', 'animation', 'action', 'f...</td>\n",
       "      <td>US</td>\n",
       "      <td>tt0850645</td>\n",
       "      <td>8.6</td>\n",
       "      <td>1092.0</td>\n",
       "      <td>15.424</td>\n",
       "      <td>7.6</td>\n",
       "      <td>15.424</td>\n",
       "    </tr>\n",
       "    <tr>\n",
       "      <th>1</th>\n",
       "      <td>tm19248</td>\n",
       "      <td>The General</td>\n",
       "      <td>MOVIE</td>\n",
       "      <td>During America’s Civil War, Union spies steal ...</td>\n",
       "      <td>1926</td>\n",
       "      <td>78</td>\n",
       "      <td>['action', 'drama', 'war', 'western', 'comedy'...</td>\n",
       "      <td>US</td>\n",
       "      <td>tt0017925</td>\n",
       "      <td>8.2</td>\n",
       "      <td>89766.0</td>\n",
       "      <td>8.647</td>\n",
       "      <td>8.0</td>\n",
       "      <td>8.647</td>\n",
       "    </tr>\n",
       "    <tr>\n",
       "      <th>2</th>\n",
       "      <td>tm82253</td>\n",
       "      <td>The Best Years of Our Lives</td>\n",
       "      <td>MOVIE</td>\n",
       "      <td>It's the hope that sustains the spirit of ever...</td>\n",
       "      <td>1946</td>\n",
       "      <td>171</td>\n",
       "      <td>['romance', 'war', 'drama']</td>\n",
       "      <td>US</td>\n",
       "      <td>tt0036868</td>\n",
       "      <td>8.1</td>\n",
       "      <td>63026.0</td>\n",
       "      <td>8.435</td>\n",
       "      <td>7.8</td>\n",
       "      <td>8.435</td>\n",
       "    </tr>\n",
       "    <tr>\n",
       "      <th>3</th>\n",
       "      <td>tm83884</td>\n",
       "      <td>His Girl Friday</td>\n",
       "      <td>MOVIE</td>\n",
       "      <td>Hildy, the journalist former wife of newspaper...</td>\n",
       "      <td>1940</td>\n",
       "      <td>92</td>\n",
       "      <td>['comedy', 'drama', 'romance']</td>\n",
       "      <td>US</td>\n",
       "      <td>tt0032599</td>\n",
       "      <td>7.8</td>\n",
       "      <td>57835.0</td>\n",
       "      <td>11.270</td>\n",
       "      <td>7.4</td>\n",
       "      <td>11.270</td>\n",
       "    </tr>\n",
       "    <tr>\n",
       "      <th>4</th>\n",
       "      <td>tm56584</td>\n",
       "      <td>In a Lonely Place</td>\n",
       "      <td>MOVIE</td>\n",
       "      <td>An aspiring actress begins to suspect that her...</td>\n",
       "      <td>1950</td>\n",
       "      <td>94</td>\n",
       "      <td>['thriller', 'drama', 'romance']</td>\n",
       "      <td>US</td>\n",
       "      <td>tt0042593</td>\n",
       "      <td>7.9</td>\n",
       "      <td>30924.0</td>\n",
       "      <td>8.273</td>\n",
       "      <td>7.6</td>\n",
       "      <td>8.273</td>\n",
       "    </tr>\n",
       "  </tbody>\n",
       "</table>\n",
       "</div>"
      ],
      "text/plain": [
       "        id                        title   type  \\\n",
       "0  ts20945            The Three Stooges   SHOW   \n",
       "1  tm19248                  The General  MOVIE   \n",
       "2  tm82253  The Best Years of Our Lives  MOVIE   \n",
       "3  tm83884              His Girl Friday  MOVIE   \n",
       "4  tm56584            In a Lonely Place  MOVIE   \n",
       "\n",
       "                                         description  release_year  runtime  \\\n",
       "0  The Three Stooges were an American vaudeville ...          1934       19   \n",
       "1  During America’s Civil War, Union spies steal ...          1926       78   \n",
       "2  It's the hope that sustains the spirit of ever...          1946      171   \n",
       "3  Hildy, the journalist former wife of newspaper...          1940       92   \n",
       "4  An aspiring actress begins to suspect that her...          1950       94   \n",
       "\n",
       "                                              genres production_countries  \\\n",
       "0  ['comedy', 'family', 'animation', 'action', 'f...                   US   \n",
       "1  ['action', 'drama', 'war', 'western', 'comedy'...                   US   \n",
       "2                        ['romance', 'war', 'drama']                   US   \n",
       "3                     ['comedy', 'drama', 'romance']                   US   \n",
       "4                   ['thriller', 'drama', 'romance']                   US   \n",
       "\n",
       "     imdb_id  imdb_score  imdb_votes  tmdb_popularity  tmdb_score  \\\n",
       "0  tt0850645         8.6      1092.0           15.424         7.6   \n",
       "1  tt0017925         8.2     89766.0            8.647         8.0   \n",
       "2  tt0036868         8.1     63026.0            8.435         7.8   \n",
       "3  tt0032599         7.8     57835.0           11.270         7.4   \n",
       "4  tt0042593         7.9     30924.0            8.273         7.6   \n",
       "\n",
       "   tmtb_popularity  \n",
       "0           15.424  \n",
       "1            8.647  \n",
       "2            8.435  \n",
       "3           11.270  \n",
       "4            8.273  "
      ]
     },
     "execution_count": 29,
     "metadata": {},
     "output_type": "execute_result"
    }
   ],
   "source": [
    "title_df.head()"
   ]
  },
  {
   "cell_type": "markdown",
   "id": "968022a3",
   "metadata": {},
   "source": [
    "# EDA"
   ]
  },
  {
   "cell_type": "code",
   "execution_count": 30,
   "id": "ae10d2c5",
   "metadata": {},
   "outputs": [
    {
     "data": {
      "text/plain": [
       "<AxesSubplot:title={'center':'highest release year'}, xlabel='release_year', ylabel='count'>"
      ]
     },
     "execution_count": 30,
     "metadata": {},
     "output_type": "execute_result"
    },
    {
     "data": {
      "image/png": "[encoded data removed]",
      "text/plain": [
       "<Figure size 864x720 with 1 Axes>"
      ]
     },
     "metadata": {
      "needs_background": "light"
     },
     "output_type": "display_data"
    }
   ],
   "source": [
    "#top 20 years maximum movies and tv shows were added\n",
    "plt.figure(figsize=(12,10))\n",
    "plt.title('highest release year')\n",
    "sns.countplot(x='release_year',data=title_df,order=title_df['release_year'].value_counts().index[:20],palette='summer')"
   ]
  },
  {
   "cell_type": "markdown",
   "id": "37143e6c",
   "metadata": {},
   "source": [
    "shows that 2021 maximum number of realeses movies and shows"
   ]
  },
  {
   "cell_type": "code",
   "execution_count": 31,
   "id": "76917755",
   "metadata": {},
   "outputs": [
    {
     "data": {
      "text/plain": [
       "<AxesSubplot:title={'center':'Movies VS Shows'}, xlabel='type', ylabel='count'>"
      ]
     },
     "execution_count": 31,
     "metadata": {},
     "output_type": "execute_result"
    },
    {
     "data": {
      "image/png": "[encoded data removed]",
      "text/plain": [
       "<Figure size 864x720 with 1 Axes>"
      ]
     },
     "metadata": {
      "needs_background": "light"
     },
     "output_type": "display_data"
    }
   ],
   "source": [
    "# Top 20 Years Maximum movies or shows added\n",
    "plt.figure(figsize=(12,10))\n",
    "plt.title('Movies VS Shows')\n",
    "sns.countplot(x='type',data=title_df,order=title_df['type'].value_counts().index[:20],hue='type',palette='rainbow')"
   ]
  },
  {
   "cell_type": "markdown",
   "id": "ede6b580",
   "metadata": {},
   "source": [
    "it shows that maximum no of moview=s release as compair to shows"
   ]
  },
  {
   "cell_type": "code",
   "execution_count": 33,
   "id": "ce5bbf59",
   "metadata": {},
   "outputs": [
    {
     "data": {
      "text/plain": [
       "<AxesSubplot:title={'center':'Top Production Countries'}, xlabel='production_countries', ylabel='count'>"
      ]
     },
     "execution_count": 33,
     "metadata": {},
     "output_type": "execute_result"
    },
    {
     "data": {
      "image/png": "[encoded data removed]",
      "text/plain": [
       "<Figure size 864x720 with 1 Axes>"
      ]
     },
     "metadata": {
      "needs_background": "light"
     },
     "output_type": "display_data"
    }
   ],
   "source": [
    "# Top 10 production countries\n",
    "plt.figure(figsize=(12,10))\n",
    "plt.title('Top Production Countries')\n",
    "sns.countplot(x='production_countries',data=title_df,order=title_df['production_countries'].value_counts().index[:10],\n",
    "        palette='pastel')"
   ]
  },
  {
   "cell_type": "markdown",
   "id": "c3d5f59e",
   "metadata": {},
   "source": [
    "it shows that US maximum produce movies and shows"
   ]
  },
  {
   "cell_type": "code",
   "execution_count": 34,
   "id": "95b99f70",
   "metadata": {},
   "outputs": [
    {
     "data": {
      "text/plain": [
       "<AxesSubplot:title={'center':'Top Countries having Most Content'}, xlabel='production_countries', ylabel='count'>"
      ]
     },
     "execution_count": 34,
     "metadata": {},
     "output_type": "execute_result"
    },
    {
     "data": {
      "image/png": "[encoded data removed]",
      "text/plain": [
       "<Figure size 864x864 with 1 Axes>"
      ]
     },
     "metadata": {
      "needs_background": "light"
     },
     "output_type": "display_data"
    }
   ],
   "source": [
    "#top countries having most content\n",
    "plt.figure(figsize=(12,12))\n",
    "plt.title('Top Countries having Most Content')\n",
    "sns.countplot(x='production_countries',data=title_df,order=title_df['production_countries'].value_counts().index[:10],hue='type',palette='magma')\n"
   ]
  },
  {
   "cell_type": "markdown",
   "id": "aec25ed4",
   "metadata": {},
   "source": [
    "# Popularity Based "
   ]
  },
  {
   "cell_type": "code",
   "execution_count": 35,
   "id": "782f5e55",
   "metadata": {},
   "outputs": [],
   "source": [
    "new_df=title_df[['title','type','genres','production_countries','release_year','imdb_score','imdb_votes']]"
   ]
  },
  {
   "cell_type": "code",
   "execution_count": 36,
   "id": "0ef86048",
   "metadata": {},
   "outputs": [],
   "source": [
    "new_df=new_df[new_df['imdb_votes']>500]"
   ]
  },
  {
   "cell_type": "code",
   "execution_count": 41,
   "id": "dedeeda5",
   "metadata": {},
   "outputs": [],
   "source": [
    "new_df=new_df.sort_values(by=['imdb_votes','imdb_score'],ascending=False)"
   ]
  },
  {
   "cell_type": "code",
   "execution_count": 42,
   "id": "6955ec68",
   "metadata": {},
   "outputs": [
    {
     "data": {
      "text/html": [
       "<div>\n",
       "<style scoped>\n",
       "    .dataframe tbody tr th:only-of-type {\n",
       "        vertical-align: middle;\n",
       "    }\n",
       "\n",
       "    .dataframe tbody tr th {\n",
       "        vertical-align: top;\n",
       "    }\n",
       "\n",
       "    .dataframe thead th {\n",
       "        text-align: right;\n",
       "    }\n",
       "</style>\n",
       "<table border=\"1\" class=\"dataframe\">\n",
       "  <thead>\n",
       "    <tr style=\"text-align: right;\">\n",
       "      <th></th>\n",
       "      <th>title</th>\n",
       "      <th>type</th>\n",
       "      <th>genres</th>\n",
       "      <th>production_countries</th>\n",
       "      <th>release_year</th>\n",
       "      <th>imdb_score</th>\n",
       "      <th>imdb_votes</th>\n",
       "    </tr>\n",
       "  </thead>\n",
       "  <tbody>\n",
       "    <tr>\n",
       "      <th>2220</th>\n",
       "      <td>Titanic</td>\n",
       "      <td>MOVIE</td>\n",
       "      <td>['drama', 'romance']</td>\n",
       "      <td>US</td>\n",
       "      <td>1997</td>\n",
       "      <td>7.9</td>\n",
       "      <td>1133692.0</td>\n",
       "    </tr>\n",
       "    <tr>\n",
       "      <th>2230</th>\n",
       "      <td>The Usual Suspects</td>\n",
       "      <td>MOVIE</td>\n",
       "      <td>['thriller', 'crime', 'drama']</td>\n",
       "      <td>US</td>\n",
       "      <td>1995</td>\n",
       "      <td>8.5</td>\n",
       "      <td>1059480.0</td>\n",
       "    </tr>\n",
       "    <tr>\n",
       "      <th>2237</th>\n",
       "      <td>Braveheart</td>\n",
       "      <td>MOVIE</td>\n",
       "      <td>['drama', 'history', 'war']</td>\n",
       "      <td>US</td>\n",
       "      <td>1995</td>\n",
       "      <td>8.4</td>\n",
       "      <td>1016629.0</td>\n",
       "    </tr>\n",
       "    <tr>\n",
       "      <th>2229</th>\n",
       "      <td>The Sixth Sense</td>\n",
       "      <td>MOVIE</td>\n",
       "      <td>['thriller', 'drama']</td>\n",
       "      <td>US</td>\n",
       "      <td>1999</td>\n",
       "      <td>8.2</td>\n",
       "      <td>967864.0</td>\n",
       "    </tr>\n",
       "    <tr>\n",
       "      <th>1814</th>\n",
       "      <td>The Terminator</td>\n",
       "      <td>MOVIE</td>\n",
       "      <td>['thriller', 'action', 'scifi']</td>\n",
       "      <td>US</td>\n",
       "      <td>1984</td>\n",
       "      <td>8.1</td>\n",
       "      <td>841706.0</td>\n",
       "    </tr>\n",
       "  </tbody>\n",
       "</table>\n",
       "</div>"
      ],
      "text/plain": [
       "                   title   type                           genres  \\\n",
       "2220             Titanic  MOVIE             ['drama', 'romance']   \n",
       "2230  The Usual Suspects  MOVIE   ['thriller', 'crime', 'drama']   \n",
       "2237          Braveheart  MOVIE      ['drama', 'history', 'war']   \n",
       "2229     The Sixth Sense  MOVIE            ['thriller', 'drama']   \n",
       "1814      The Terminator  MOVIE  ['thriller', 'action', 'scifi']   \n",
       "\n",
       "     production_countries  release_year  imdb_score  imdb_votes  \n",
       "2220                   US          1997         7.9   1133692.0  \n",
       "2230                   US          1995         8.5   1059480.0  \n",
       "2237                   US          1995         8.4   1016629.0  \n",
       "2229                   US          1999         8.2    967864.0  \n",
       "1814                   US          1984         8.1    841706.0  "
      ]
     },
     "execution_count": 42,
     "metadata": {},
     "output_type": "execute_result"
    }
   ],
   "source": [
    "new_df.head()"
   ]
  },
  {
   "cell_type": "code",
   "execution_count": 45,
   "id": "d3708e20",
   "metadata": {},
   "outputs": [
    {
     "data": {
      "text/html": [
       "<div>\n",
       "<style scoped>\n",
       "    .dataframe tbody tr th:only-of-type {\n",
       "        vertical-align: middle;\n",
       "    }\n",
       "\n",
       "    .dataframe tbody tr th {\n",
       "        vertical-align: top;\n",
       "    }\n",
       "\n",
       "    .dataframe thead th {\n",
       "        text-align: right;\n",
       "    }\n",
       "</style>\n",
       "<table border=\"1\" class=\"dataframe\">\n",
       "  <thead>\n",
       "    <tr style=\"text-align: right;\">\n",
       "      <th></th>\n",
       "      <th>title</th>\n",
       "      <th>type</th>\n",
       "      <th>genres</th>\n",
       "      <th>production_countries</th>\n",
       "      <th>release_year</th>\n",
       "      <th>imdb_score</th>\n",
       "      <th>imdb_votes</th>\n",
       "    </tr>\n",
       "  </thead>\n",
       "  <tbody>\n",
       "    <tr>\n",
       "      <th>9167</th>\n",
       "      <td>Gehraiyaan</td>\n",
       "      <td>MOVIE</td>\n",
       "      <td>['romance', 'drama', 'comedy']</td>\n",
       "      <td>IN</td>\n",
       "      <td>2022</td>\n",
       "      <td>6.5</td>\n",
       "      <td>41054.0</td>\n",
       "    </tr>\n",
       "    <tr>\n",
       "      <th>8988</th>\n",
       "      <td>Bachchhan Paandey</td>\n",
       "      <td>MOVIE</td>\n",
       "      <td>['action', 'crime', 'drama', 'comedy']</td>\n",
       "      <td>IN</td>\n",
       "      <td>2022</td>\n",
       "      <td>7.1</td>\n",
       "      <td>31853.0</td>\n",
       "    </tr>\n",
       "    <tr>\n",
       "      <th>8964</th>\n",
       "      <td>Hotel Transylvania: Transformania</td>\n",
       "      <td>MOVIE</td>\n",
       "      <td>['fantasy', 'romance', 'animation', 'comedy', ...</td>\n",
       "      <td>US</td>\n",
       "      <td>2022</td>\n",
       "      <td>6.0</td>\n",
       "      <td>26244.0</td>\n",
       "    </tr>\n",
       "    <tr>\n",
       "      <th>9009</th>\n",
       "      <td>Radhe Shyam</td>\n",
       "      <td>MOVIE</td>\n",
       "      <td>['romance', 'drama']</td>\n",
       "      <td>IN</td>\n",
       "      <td>2022</td>\n",
       "      <td>6.9</td>\n",
       "      <td>21328.0</td>\n",
       "    </tr>\n",
       "    <tr>\n",
       "      <th>8934</th>\n",
       "      <td>All the Old Knives</td>\n",
       "      <td>MOVIE</td>\n",
       "      <td>['thriller']</td>\n",
       "      <td>US</td>\n",
       "      <td>2022</td>\n",
       "      <td>6.1</td>\n",
       "      <td>14686.0</td>\n",
       "    </tr>\n",
       "    <tr>\n",
       "      <th>8952</th>\n",
       "      <td>I Want You Back</td>\n",
       "      <td>MOVIE</td>\n",
       "      <td>['romance', 'family', 'comedy']</td>\n",
       "      <td>US</td>\n",
       "      <td>2022</td>\n",
       "      <td>6.6</td>\n",
       "      <td>14574.0</td>\n",
       "    </tr>\n",
       "    <tr>\n",
       "      <th>9276</th>\n",
       "      <td>Mahaan</td>\n",
       "      <td>MOVIE</td>\n",
       "      <td>['action', 'drama', 'thriller', 'crime']</td>\n",
       "      <td>IN</td>\n",
       "      <td>2022</td>\n",
       "      <td>8.2</td>\n",
       "      <td>12326.0</td>\n",
       "    </tr>\n",
       "    <tr>\n",
       "      <th>9330</th>\n",
       "      <td>Aaraattu</td>\n",
       "      <td>MOVIE</td>\n",
       "      <td>['action', 'drama']</td>\n",
       "      <td>IN</td>\n",
       "      <td>2022</td>\n",
       "      <td>5.9</td>\n",
       "      <td>8968.0</td>\n",
       "    </tr>\n",
       "    <tr>\n",
       "      <th>9097</th>\n",
       "      <td>Sharmaji Namkeen</td>\n",
       "      <td>MOVIE</td>\n",
       "      <td>['comedy', 'drama', 'family']</td>\n",
       "      <td>Unknown</td>\n",
       "      <td>2022</td>\n",
       "      <td>8.1</td>\n",
       "      <td>8830.0</td>\n",
       "    </tr>\n",
       "    <tr>\n",
       "      <th>8960</th>\n",
       "      <td>Master</td>\n",
       "      <td>MOVIE</td>\n",
       "      <td>['thriller', 'horror', 'drama']</td>\n",
       "      <td>US</td>\n",
       "      <td>2022</td>\n",
       "      <td>4.9</td>\n",
       "      <td>3616.0</td>\n",
       "    </tr>\n",
       "    <tr>\n",
       "      <th>9241</th>\n",
       "      <td>FIR</td>\n",
       "      <td>MOVIE</td>\n",
       "      <td>['thriller', 'action']</td>\n",
       "      <td>IN</td>\n",
       "      <td>2022</td>\n",
       "      <td>7.2</td>\n",
       "      <td>2804.0</td>\n",
       "    </tr>\n",
       "    <tr>\n",
       "      <th>9062</th>\n",
       "      <td>Jalsa</td>\n",
       "      <td>MOVIE</td>\n",
       "      <td>['thriller', 'drama']</td>\n",
       "      <td>IN</td>\n",
       "      <td>2022</td>\n",
       "      <td>6.8</td>\n",
       "      <td>2490.0</td>\n",
       "    </tr>\n",
       "    <tr>\n",
       "      <th>9212</th>\n",
       "      <td>Meppadiyan</td>\n",
       "      <td>MOVIE</td>\n",
       "      <td>['drama', 'thriller']</td>\n",
       "      <td>IN</td>\n",
       "      <td>2022</td>\n",
       "      <td>7.4</td>\n",
       "      <td>2358.0</td>\n",
       "    </tr>\n",
       "    <tr>\n",
       "      <th>9338</th>\n",
       "      <td>Turnt</td>\n",
       "      <td>MOVIE</td>\n",
       "      <td>['drama']</td>\n",
       "      <td>XX</td>\n",
       "      <td>2022</td>\n",
       "      <td>3.2</td>\n",
       "      <td>2308.0</td>\n",
       "    </tr>\n",
       "    <tr>\n",
       "      <th>9135</th>\n",
       "      <td>Pawankhind</td>\n",
       "      <td>MOVIE</td>\n",
       "      <td>['action', 'drama', 'history']</td>\n",
       "      <td>IN</td>\n",
       "      <td>2022</td>\n",
       "      <td>9.9</td>\n",
       "      <td>2036.0</td>\n",
       "    </tr>\n",
       "    <tr>\n",
       "      <th>8967</th>\n",
       "      <td>Lucy and Desi</td>\n",
       "      <td>MOVIE</td>\n",
       "      <td>['comedy', 'drama', 'history', 'documentation']</td>\n",
       "      <td>US</td>\n",
       "      <td>2022</td>\n",
       "      <td>7.8</td>\n",
       "      <td>1848.0</td>\n",
       "    </tr>\n",
       "    <tr>\n",
       "      <th>9098</th>\n",
       "      <td>Naradan</td>\n",
       "      <td>MOVIE</td>\n",
       "      <td>['drama', 'thriller']</td>\n",
       "      <td>IN</td>\n",
       "      <td>2022</td>\n",
       "      <td>6.9</td>\n",
       "      <td>1771.0</td>\n",
       "    </tr>\n",
       "    <tr>\n",
       "      <th>9127</th>\n",
       "      <td>Rooney</td>\n",
       "      <td>MOVIE</td>\n",
       "      <td>['documentation', 'sport']</td>\n",
       "      <td>GB</td>\n",
       "      <td>2022</td>\n",
       "      <td>6.8</td>\n",
       "      <td>1754.0</td>\n",
       "    </tr>\n",
       "    <tr>\n",
       "      <th>9001</th>\n",
       "      <td>Book of Love</td>\n",
       "      <td>MOVIE</td>\n",
       "      <td>['romance', 'comedy']</td>\n",
       "      <td>GB</td>\n",
       "      <td>2022</td>\n",
       "      <td>5.6</td>\n",
       "      <td>1742.0</td>\n",
       "    </tr>\n",
       "    <tr>\n",
       "      <th>9121</th>\n",
       "      <td>Pada</td>\n",
       "      <td>MOVIE</td>\n",
       "      <td>['thriller', 'crime', 'drama']</td>\n",
       "      <td>IN</td>\n",
       "      <td>2022</td>\n",
       "      <td>8.0</td>\n",
       "      <td>1584.0</td>\n",
       "    </tr>\n",
       "    <tr>\n",
       "      <th>9522</th>\n",
       "      <td>Good Luck Sakhi</td>\n",
       "      <td>MOVIE</td>\n",
       "      <td>['drama', 'romance', 'comedy']</td>\n",
       "      <td>IN</td>\n",
       "      <td>2022</td>\n",
       "      <td>7.3</td>\n",
       "      <td>1538.0</td>\n",
       "    </tr>\n",
       "    <tr>\n",
       "      <th>9311</th>\n",
       "      <td>Old Monk</td>\n",
       "      <td>MOVIE</td>\n",
       "      <td>['comedy', 'romance']</td>\n",
       "      <td>IN</td>\n",
       "      <td>2022</td>\n",
       "      <td>8.9</td>\n",
       "      <td>1464.0</td>\n",
       "    </tr>\n",
       "    <tr>\n",
       "      <th>9316</th>\n",
       "      <td>Randu</td>\n",
       "      <td>MOVIE</td>\n",
       "      <td>['comedy']</td>\n",
       "      <td>IN</td>\n",
       "      <td>2022</td>\n",
       "      <td>7.0</td>\n",
       "      <td>1208.0</td>\n",
       "    </tr>\n",
       "    <tr>\n",
       "      <th>9146</th>\n",
       "      <td>Galwakdi</td>\n",
       "      <td>MOVIE</td>\n",
       "      <td>['drama', 'comedy', 'romance']</td>\n",
       "      <td>IN</td>\n",
       "      <td>2022</td>\n",
       "      <td>7.8</td>\n",
       "      <td>770.0</td>\n",
       "    </tr>\n",
       "    <tr>\n",
       "      <th>9519</th>\n",
       "      <td>Family Pack</td>\n",
       "      <td>MOVIE</td>\n",
       "      <td>['comedy', 'romance', 'drama']</td>\n",
       "      <td>IN</td>\n",
       "      <td>2022</td>\n",
       "      <td>7.4</td>\n",
       "      <td>662.0</td>\n",
       "    </tr>\n",
       "    <tr>\n",
       "      <th>9058</th>\n",
       "      <td>Saani Kaayidham</td>\n",
       "      <td>MOVIE</td>\n",
       "      <td>['drama', 'action', 'crime']</td>\n",
       "      <td>IN</td>\n",
       "      <td>2022</td>\n",
       "      <td>7.8</td>\n",
       "      <td>645.0</td>\n",
       "    </tr>\n",
       "  </tbody>\n",
       "</table>\n",
       "</div>"
      ],
      "text/plain": [
       "                                  title   type  \\\n",
       "9167                         Gehraiyaan  MOVIE   \n",
       "8988                  Bachchhan Paandey  MOVIE   \n",
       "8964  Hotel Transylvania: Transformania  MOVIE   \n",
       "9009                        Radhe Shyam  MOVIE   \n",
       "8934                 All the Old Knives  MOVIE   \n",
       "8952                    I Want You Back  MOVIE   \n",
       "9276                             Mahaan  MOVIE   \n",
       "9330                           Aaraattu  MOVIE   \n",
       "9097                   Sharmaji Namkeen  MOVIE   \n",
       "8960                             Master  MOVIE   \n",
       "9241                                FIR  MOVIE   \n",
       "9062                              Jalsa  MOVIE   \n",
       "9212                         Meppadiyan  MOVIE   \n",
       "9338                              Turnt  MOVIE   \n",
       "9135                         Pawankhind  MOVIE   \n",
       "8967                      Lucy and Desi  MOVIE   \n",
       "9098                            Naradan  MOVIE   \n",
       "9127                             Rooney  MOVIE   \n",
       "9001                       Book of Love  MOVIE   \n",
       "9121                               Pada  MOVIE   \n",
       "9522                    Good Luck Sakhi  MOVIE   \n",
       "9311                           Old Monk  MOVIE   \n",
       "9316                              Randu  MOVIE   \n",
       "9146                           Galwakdi  MOVIE   \n",
       "9519                        Family Pack  MOVIE   \n",
       "9058                    Saani Kaayidham  MOVIE   \n",
       "\n",
       "                                                 genres production_countries  \\\n",
       "9167                     ['romance', 'drama', 'comedy']                   IN   \n",
       "8988             ['action', 'crime', 'drama', 'comedy']                   IN   \n",
       "8964  ['fantasy', 'romance', 'animation', 'comedy', ...                   US   \n",
       "9009                               ['romance', 'drama']                   IN   \n",
       "8934                                       ['thriller']                   US   \n",
       "8952                    ['romance', 'family', 'comedy']                   US   \n",
       "9276           ['action', 'drama', 'thriller', 'crime']                   IN   \n",
       "9330                                ['action', 'drama']                   IN   \n",
       "9097                      ['comedy', 'drama', 'family']              Unknown   \n",
       "8960                    ['thriller', 'horror', 'drama']                   US   \n",
       "9241                             ['thriller', 'action']                   IN   \n",
       "9062                              ['thriller', 'drama']                   IN   \n",
       "9212                              ['drama', 'thriller']                   IN   \n",
       "9338                                          ['drama']                   XX   \n",
       "9135                     ['action', 'drama', 'history']                   IN   \n",
       "8967    ['comedy', 'drama', 'history', 'documentation']                   US   \n",
       "9098                              ['drama', 'thriller']                   IN   \n",
       "9127                         ['documentation', 'sport']                   GB   \n",
       "9001                              ['romance', 'comedy']                   GB   \n",
       "9121                     ['thriller', 'crime', 'drama']                   IN   \n",
       "9522                     ['drama', 'romance', 'comedy']                   IN   \n",
       "9311                              ['comedy', 'romance']                   IN   \n",
       "9316                                         ['comedy']                   IN   \n",
       "9146                     ['drama', 'comedy', 'romance']                   IN   \n",
       "9519                     ['comedy', 'romance', 'drama']                   IN   \n",
       "9058                       ['drama', 'action', 'crime']                   IN   \n",
       "\n",
       "      release_year  imdb_score  imdb_votes  \n",
       "9167          2022         6.5     41054.0  \n",
       "8988          2022         7.1     31853.0  \n",
       "8964          2022         6.0     26244.0  \n",
       "9009          2022         6.9     21328.0  \n",
       "8934          2022         6.1     14686.0  \n",
       "8952          2022         6.6     14574.0  \n",
       "9276          2022         8.2     12326.0  \n",
       "9330          2022         5.9      8968.0  \n",
       "9097          2022         8.1      8830.0  \n",
       "8960          2022         4.9      3616.0  \n",
       "9241          2022         7.2      2804.0  \n",
       "9062          2022         6.8      2490.0  \n",
       "9212          2022         7.4      2358.0  \n",
       "9338          2022         3.2      2308.0  \n",
       "9135          2022         9.9      2036.0  \n",
       "8967          2022         7.8      1848.0  \n",
       "9098          2022         6.9      1771.0  \n",
       "9127          2022         6.8      1754.0  \n",
       "9001          2022         5.6      1742.0  \n",
       "9121          2022         8.0      1584.0  \n",
       "9522          2022         7.3      1538.0  \n",
       "9311          2022         8.9      1464.0  \n",
       "9316          2022         7.0      1208.0  \n",
       "9146          2022         7.8       770.0  \n",
       "9519          2022         7.4       662.0  \n",
       "9058          2022         7.8       645.0  "
      ]
     },
     "execution_count": 45,
     "metadata": {},
     "output_type": "execute_result"
    }
   ],
   "source": [
    "popular_types=new_df[new_df['release_year']==2022]\n",
    "popular_Movies=popular_types[popular_types['type']=='MOVIE']\n",
    "popular_Movies"
   ]
  },
  {
   "cell_type": "code",
   "execution_count": 47,
   "id": "da3cc452",
   "metadata": {},
   "outputs": [
    {
     "data": {
      "text/plain": [
       "<AxesSubplot:title={'center':'popular movies in 2022'}, xlabel='imdb_score', ylabel='title'>"
      ]
     },
     "execution_count": 47,
     "metadata": {},
     "output_type": "execute_result"
    },
    {
     "data": {
      "image/png": "[encoded data removed]",
      "text/plain": [
       "<Figure size 1080x1080 with 1 Axes>"
      ]
     },
     "metadata": {
      "needs_background": "light"
     },
     "output_type": "display_data"
    }
   ],
   "source": [
    "plt.figure(figsize=(15,15))\n",
    "plt.title('popular movies in 2022')\n",
    "sns.barplot(y='title',data=popular_Movies,x='imdb_score',hue='production_countries',palette='bright')"
   ]
  },
  {
   "cell_type": "code",
   "execution_count": 48,
   "id": "a8209edf",
   "metadata": {},
   "outputs": [
    {
     "data": {
      "text/html": [
       "<div>\n",
       "<style scoped>\n",
       "    .dataframe tbody tr th:only-of-type {\n",
       "        vertical-align: middle;\n",
       "    }\n",
       "\n",
       "    .dataframe tbody tr th {\n",
       "        vertical-align: top;\n",
       "    }\n",
       "\n",
       "    .dataframe thead th {\n",
       "        text-align: right;\n",
       "    }\n",
       "</style>\n",
       "<table border=\"1\" class=\"dataframe\">\n",
       "  <thead>\n",
       "    <tr style=\"text-align: right;\">\n",
       "      <th></th>\n",
       "      <th>title</th>\n",
       "      <th>type</th>\n",
       "      <th>genres</th>\n",
       "      <th>production_countries</th>\n",
       "      <th>release_year</th>\n",
       "      <th>imdb_score</th>\n",
       "      <th>imdb_votes</th>\n",
       "    </tr>\n",
       "  </thead>\n",
       "  <tbody>\n",
       "    <tr>\n",
       "      <th>8939</th>\n",
       "      <td>Reacher</td>\n",
       "      <td>SHOW</td>\n",
       "      <td>['action', 'crime', 'drama', 'thriller']</td>\n",
       "      <td>US</td>\n",
       "      <td>2022</td>\n",
       "      <td>8.1</td>\n",
       "      <td>95704.0</td>\n",
       "    </tr>\n",
       "    <tr>\n",
       "      <th>8955</th>\n",
       "      <td>The Legend of Vox Machina</td>\n",
       "      <td>SHOW</td>\n",
       "      <td>['animation', 'action', 'comedy', 'fantasy', '...</td>\n",
       "      <td>US</td>\n",
       "      <td>2022</td>\n",
       "      <td>8.5</td>\n",
       "      <td>18406.0</td>\n",
       "    </tr>\n",
       "    <tr>\n",
       "      <th>8926</th>\n",
       "      <td>Outer Range</td>\n",
       "      <td>SHOW</td>\n",
       "      <td>['western', 'drama', 'thriller']</td>\n",
       "      <td>US</td>\n",
       "      <td>2022</td>\n",
       "      <td>7.3</td>\n",
       "      <td>11642.0</td>\n",
       "    </tr>\n",
       "    <tr>\n",
       "      <th>8970</th>\n",
       "      <td>The Boys Presents: Diabolical</td>\n",
       "      <td>SHOW</td>\n",
       "      <td>['drama', 'scifi', 'animation', 'action', 'com...</td>\n",
       "      <td>US</td>\n",
       "      <td>2022</td>\n",
       "      <td>6.9</td>\n",
       "      <td>7846.0</td>\n",
       "    </tr>\n",
       "    <tr>\n",
       "      <th>8974</th>\n",
       "      <td>Power Book IV: Force</td>\n",
       "      <td>SHOW</td>\n",
       "      <td>['crime', 'drama']</td>\n",
       "      <td>US</td>\n",
       "      <td>2022</td>\n",
       "      <td>8.1</td>\n",
       "      <td>4066.0</td>\n",
       "    </tr>\n",
       "    <tr>\n",
       "      <th>8930</th>\n",
       "      <td>Star Trek: Strange New Worlds</td>\n",
       "      <td>SHOW</td>\n",
       "      <td>['scifi', 'action']</td>\n",
       "      <td>US</td>\n",
       "      <td>2022</td>\n",
       "      <td>8.1</td>\n",
       "      <td>3625.0</td>\n",
       "    </tr>\n",
       "    <tr>\n",
       "      <th>8969</th>\n",
       "      <td>As We See It</td>\n",
       "      <td>SHOW</td>\n",
       "      <td>['comedy', 'drama']</td>\n",
       "      <td>US</td>\n",
       "      <td>2022</td>\n",
       "      <td>8.2</td>\n",
       "      <td>2818.0</td>\n",
       "    </tr>\n",
       "    <tr>\n",
       "      <th>8935</th>\n",
       "      <td>Super Pumped</td>\n",
       "      <td>SHOW</td>\n",
       "      <td>['drama']</td>\n",
       "      <td>US</td>\n",
       "      <td>2022</td>\n",
       "      <td>7.2</td>\n",
       "      <td>2756.0</td>\n",
       "    </tr>\n",
       "    <tr>\n",
       "      <th>9253</th>\n",
       "      <td>Bestseller</td>\n",
       "      <td>SHOW</td>\n",
       "      <td>['drama', 'thriller']</td>\n",
       "      <td>IN</td>\n",
       "      <td>2022</td>\n",
       "      <td>5.9</td>\n",
       "      <td>1630.0</td>\n",
       "    </tr>\n",
       "    <tr>\n",
       "      <th>8929</th>\n",
       "      <td>The First Lady</td>\n",
       "      <td>SHOW</td>\n",
       "      <td>['drama', 'history']</td>\n",
       "      <td>US</td>\n",
       "      <td>2022</td>\n",
       "      <td>5.9</td>\n",
       "      <td>1502.0</td>\n",
       "    </tr>\n",
       "    <tr>\n",
       "      <th>8933</th>\n",
       "      <td>The Man Who Fell to Earth</td>\n",
       "      <td>SHOW</td>\n",
       "      <td>['scifi', 'drama', 'thriller']</td>\n",
       "      <td>US</td>\n",
       "      <td>2022</td>\n",
       "      <td>6.1</td>\n",
       "      <td>1317.0</td>\n",
       "    </tr>\n",
       "    <tr>\n",
       "      <th>8984</th>\n",
       "      <td>Lizzo's Watch Out for the Big Grrrls</td>\n",
       "      <td>SHOW</td>\n",
       "      <td>['reality']</td>\n",
       "      <td>US</td>\n",
       "      <td>2022</td>\n",
       "      <td>4.7</td>\n",
       "      <td>1059.0</td>\n",
       "    </tr>\n",
       "    <tr>\n",
       "      <th>8928</th>\n",
       "      <td>From</td>\n",
       "      <td>SHOW</td>\n",
       "      <td>['scifi', 'thriller', 'drama', 'horror']</td>\n",
       "      <td>US</td>\n",
       "      <td>2022</td>\n",
       "      <td>7.8</td>\n",
       "      <td>662.0</td>\n",
       "    </tr>\n",
       "    <tr>\n",
       "      <th>9029</th>\n",
       "      <td>Fear the Walking Dead: Dead in the Water</td>\n",
       "      <td>SHOW</td>\n",
       "      <td>['action']</td>\n",
       "      <td>US</td>\n",
       "      <td>2022</td>\n",
       "      <td>6.4</td>\n",
       "      <td>615.0</td>\n",
       "    </tr>\n",
       "    <tr>\n",
       "      <th>9015</th>\n",
       "      <td>LOL: Last One Laughing Canada</td>\n",
       "      <td>SHOW</td>\n",
       "      <td>['comedy', 'reality']</td>\n",
       "      <td>CA</td>\n",
       "      <td>2022</td>\n",
       "      <td>7.3</td>\n",
       "      <td>583.0</td>\n",
       "    </tr>\n",
       "    <tr>\n",
       "      <th>9192</th>\n",
       "      <td>Unpaused: Naya Safar</td>\n",
       "      <td>SHOW</td>\n",
       "      <td>['drama']</td>\n",
       "      <td>IN</td>\n",
       "      <td>2022</td>\n",
       "      <td>7.2</td>\n",
       "      <td>574.0</td>\n",
       "    </tr>\n",
       "    <tr>\n",
       "      <th>9040</th>\n",
       "      <td>Harina</td>\n",
       "      <td>SHOW</td>\n",
       "      <td>['comedy']</td>\n",
       "      <td>MX</td>\n",
       "      <td>2022</td>\n",
       "      <td>7.8</td>\n",
       "      <td>509.0</td>\n",
       "    </tr>\n",
       "  </tbody>\n",
       "</table>\n",
       "</div>"
      ],
      "text/plain": [
       "                                         title  type  \\\n",
       "8939                                   Reacher  SHOW   \n",
       "8955                 The Legend of Vox Machina  SHOW   \n",
       "8926                               Outer Range  SHOW   \n",
       "8970             The Boys Presents: Diabolical  SHOW   \n",
       "8974                      Power Book IV: Force  SHOW   \n",
       "8930             Star Trek: Strange New Worlds  SHOW   \n",
       "8969                              As We See It  SHOW   \n",
       "8935                              Super Pumped  SHOW   \n",
       "9253                                Bestseller  SHOW   \n",
       "8929                            The First Lady  SHOW   \n",
       "8933                 The Man Who Fell to Earth  SHOW   \n",
       "8984      Lizzo's Watch Out for the Big Grrrls  SHOW   \n",
       "8928                                      From  SHOW   \n",
       "9029  Fear the Walking Dead: Dead in the Water  SHOW   \n",
       "9015             LOL: Last One Laughing Canada  SHOW   \n",
       "9192                      Unpaused: Naya Safar  SHOW   \n",
       "9040                                    Harina  SHOW   \n",
       "\n",
       "                                                 genres production_countries  \\\n",
       "8939           ['action', 'crime', 'drama', 'thriller']                   US   \n",
       "8955  ['animation', 'action', 'comedy', 'fantasy', '...                   US   \n",
       "8926                   ['western', 'drama', 'thriller']                   US   \n",
       "8970  ['drama', 'scifi', 'animation', 'action', 'com...                   US   \n",
       "8974                                 ['crime', 'drama']                   US   \n",
       "8930                                ['scifi', 'action']                   US   \n",
       "8969                                ['comedy', 'drama']                   US   \n",
       "8935                                          ['drama']                   US   \n",
       "9253                              ['drama', 'thriller']                   IN   \n",
       "8929                               ['drama', 'history']                   US   \n",
       "8933                     ['scifi', 'drama', 'thriller']                   US   \n",
       "8984                                        ['reality']                   US   \n",
       "8928           ['scifi', 'thriller', 'drama', 'horror']                   US   \n",
       "9029                                         ['action']                   US   \n",
       "9015                              ['comedy', 'reality']                   CA   \n",
       "9192                                          ['drama']                   IN   \n",
       "9040                                         ['comedy']                   MX   \n",
       "\n",
       "      release_year  imdb_score  imdb_votes  \n",
       "8939          2022         8.1     95704.0  \n",
       "8955          2022         8.5     18406.0  \n",
       "8926          2022         7.3     11642.0  \n",
       "8970          2022         6.9      7846.0  \n",
       "8974          2022         8.1      4066.0  \n",
       "8930          2022         8.1      3625.0  \n",
       "8969          2022         8.2      2818.0  \n",
       "8935          2022         7.2      2756.0  \n",
       "9253          2022         5.9      1630.0  \n",
       "8929          2022         5.9      1502.0  \n",
       "8933          2022         6.1      1317.0  \n",
       "8984          2022         4.7      1059.0  \n",
       "8928          2022         7.8       662.0  \n",
       "9029          2022         6.4       615.0  \n",
       "9015          2022         7.3       583.0  \n",
       "9192          2022         7.2       574.0  \n",
       "9040          2022         7.8       509.0  "
      ]
     },
     "execution_count": 48,
     "metadata": {},
     "output_type": "execute_result"
    }
   ],
   "source": [
    "#Popular Show in 2022\n",
    "popular_shows=popular_types[popular_types['type']=='SHOW']\n",
    "popular_shows"
   ]
  },
  {
   "cell_type": "code",
   "execution_count": 50,
   "id": "eb8b0599",
   "metadata": {},
   "outputs": [
    {
     "data": {
      "text/plain": [
       "<AxesSubplot:title={'center':'Popular Shows in year 2022'}, xlabel='imdb_score', ylabel='title'>"
      ]
     },
     "execution_count": 50,
     "metadata": {},
     "output_type": "execute_result"
    },
    {
     "data": {
      "image/png": "[encoded data removed]",
      "text/plain": [
       "<Figure size 1080x1080 with 1 Axes>"
      ]
     },
     "metadata": {
      "needs_background": "light"
     },
     "output_type": "display_data"
    }
   ],
   "source": [
    "plt.figure(figsize=(15,15))\n",
    "plt.title('Popular Shows in year 2022')\n",
    "sns.barplot(y='title',data=popular_shows,x='imdb_score',hue='production_countries',palette='hls')"
   ]
  },
  {
   "cell_type": "code",
   "execution_count": null,
   "id": "115c4d38",
   "metadata": {},
   "outputs": [],
   "source": []
  }
 ],
 "metadata": {
  "kernelspec": {
   "display_name": "Python 3 (ipykernel)",
   "language": "python",
   "name": "python3"
  },
  "language_info": {
   "codemirror_mode": {
    "name": "ipython",
    "version": 3
   },
   "file_extension": ".py",
   "mimetype": "text/x-python",
   "name": "python",
   "nbconvert_exporter": "python",
   "pygments_lexer": "ipython3",
   "version": "3.10.7"
  }
 },
 "nbformat": 4,
 "nbformat_minor": 5
}
